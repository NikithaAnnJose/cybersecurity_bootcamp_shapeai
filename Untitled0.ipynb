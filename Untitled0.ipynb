{
  "nbformat": 4,
  "nbformat_minor": 0,
  "metadata": {
    "colab": {
      "name": "Untitled0.ipynb",
      "provenance": []
    },
    "kernelspec": {
      "name": "python3",
      "display_name": "Python 3"
    },
    "language_info": {
      "name": "python"
    }
  },
  "cells": [
    {
      "cell_type": "code",
      "metadata": {
        "colab": {
          "base_uri": "https://localhost:8080/"
        },
        "id": "FiAYE6lCh94l",
        "outputId": "c0973fc8-07ac-4d2a-e2fa-e29fdd4c2910"
      },
      "source": [
        "import requests,sys\n",
        "#import os\n",
        "from datetime import datetime\n",
        "\n",
        "api_key = '87d845b0b6cf29baa1a73cc34b067a95'\n",
        "location = input(\"Enter the city name: \")\n",
        "\n",
        "complete_api_link = \"https://api.openweathermap.org/data/2.5/weather?q=\"+location+\"&appid=\"+api_key\n",
        "api_link = requests.get(complete_api_link)\n",
        "api_data = api_link.json()\n",
        "\n",
        "#create variables to store and display data\n",
        "temp_city = ((api_data['main']['temp']) - 273.15)\n",
        "weather_desc = api_data['weather'][0]['description']\n",
        "hmdt = api_data['main']['humidity']\n",
        "wind_spd = api_data['wind']['speed']\n",
        "date_time = datetime.now().strftime(\"%d %b %Y | %I:%M:%S %p\")\n",
        "\n",
        "original_stdout = sys.stdout\n",
        "with open('weather,txt','w') as f:\n",
        "  sys.stdout = f\n",
        "  print(\"-------------------------------------------------------------\")\n",
        "  print(\"Weather Stats for - {}  || {}\".format(location.upper(), date_time))\n",
        "  print(\"-------------------------------------------------------------\")\n",
        "  print(\"Current temperature is: {:.2f} deg C\".format(temp_city))\n",
        "  print(\"Current weather desc  :\",weather_desc)\n",
        "  print(\"Current Humidity      :\",hmdt, '%')\n",
        "  print(\"Current wind speed    :\",wind_spd ,'kmph')\n",
        "\n",
        "sys.stdout=original_stdout\n",
        "print(\"The weather information has been written to 'weather,txt' file........\")\n",
        "\n",
        "\n",
        "\n",
        "\n"
      ],
      "execution_count": 8,
      "outputs": [
        {
          "output_type": "stream",
          "text": [
            "Enter the city name: ranchi\n",
            "The weather information has been written to 'weather,txt' file........\n"
          ],
          "name": "stdout"
        }
      ]
    }
  ]
}